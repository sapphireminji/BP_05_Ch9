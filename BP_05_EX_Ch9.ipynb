{
  "nbformat": 4,
  "nbformat_minor": 0,
  "metadata": {
    "colab": {
      "provenance": [],
      "authorship_tag": "ABX9TyOMEJJdLvbIfcdowQO7tPrR",
      "include_colab_link": true
    },
    "kernelspec": {
      "name": "python3",
      "display_name": "Python 3"
    },
    "language_info": {
      "name": "python"
    }
  },
  "cells": [
    {
      "cell_type": "markdown",
      "metadata": {
        "id": "view-in-github",
        "colab_type": "text"
      },
      "source": [
        "<a href=\"https://colab.research.google.com/github/sapphireminji/BP_05_Ch9/blob/main/BP_05_EX_Ch9.ipynb\" target=\"_parent\"><img src=\"https://colab.research.google.com/assets/colab-badge.svg\" alt=\"Open In Colab\"/></a>"
      ]
    },
    {
      "cell_type": "markdown",
      "source": [
        "1. 사용자로부터 5개의 숫자를 읽어서 리스트에 저장하고 숫자들의 평균을 계산하여 출력하는 프로그램을 작성해보자."
      ],
      "metadata": {
        "id": "dRsiXcLb851D"
      }
    },
    {
      "cell_type": "code",
      "execution_count": 1,
      "metadata": {
        "colab": {
          "base_uri": "https://localhost:8080/"
        },
        "id": "SyT2pi660Fd7",
        "outputId": "5a555768-8a2d-49cc-8621-e6504b77b176"
      },
      "outputs": [
        {
          "output_type": "stream",
          "name": "stdout",
          "text": [
            "정수를 입력하시오: 10\n",
            "정수를 입력하시오: 20\n",
            "정수를 입력하시오: 30\n",
            "정수를 입력하시오: 40\n",
            "정수를 입력하시오: 50\n",
            "평균= 30.0\n"
          ]
        }
      ],
      "source": [
        "alist = []\n",
        "sum = 0\n",
        "\n",
        "for i in range(5):\n",
        "    i = int(input(\"정수를 입력하시오: \"))\n",
        "    alist.append(i)\n",
        "\n",
        "for i in alist:\n",
        "    sum += i\n",
        "avg = sum/len(alist)\n",
        "print(\"평균=\", avg)"
      ]
    },
    {
      "cell_type": "markdown",
      "source": [
        "2. 주사위를 던져서 나오는 값들의 빈도를 계산하는 프로그램을 작성해보자. 즉 1, 2, 3, 4, 5, 6의 값이 각각 몇 번이나 나오는지를 계산한다. 난수 발생 함수와 리스트를 사용해보자."
      ],
      "metadata": {
        "id": "vN-3PQt79hn5"
      }
    },
    {
      "cell_type": "code",
      "source": [
        "import random\n",
        "counters = [0, 0, 0, 0, 0, 0]\n",
        "\n",
        "for i in range(1000):\n",
        "      value = random.randint(0, 5)\n",
        "      counters[value] = counters[value] + 1\n",
        "\n",
        "for i in range(6) :\n",
        "      print(\"주사위가\", i+1, \"인 경우는 \", counters[i], \"번\")"
      ],
      "metadata": {
        "colab": {
          "base_uri": "https://localhost:8080/"
        },
        "id": "Es8b0Ko492LE",
        "outputId": "8d626aea-0ce1-46c3-de5f-296488c89dd8"
      },
      "execution_count": 2,
      "outputs": [
        {
          "output_type": "stream",
          "name": "stdout",
          "text": [
            "주사위가 1 인 경우는  145 번\n",
            "주사위가 2 인 경우는  174 번\n",
            "주사위가 3 인 경우는  171 번\n",
            "주사위가 4 인 경우는  183 번\n",
            "주사위가 5 인 경우는  176 번\n",
            "주사위가 6 인 경우는  151 번\n"
          ]
        }
      ]
    },
    {
      "cell_type": "markdown",
      "source": [
        "3. 딕셔너리를 사용하여서 친구들의 이름과 전화번호를 저장해보자. 사용자로부터 친구들의 이름과 전화번호를 입력받고 딕셔너리에 저장한다. 이름을 입력하지 않고 엔터키를 치면 검색모드가 된다. 검색 모드에서는 친구들의 이름으로 전화번호를 검색할 수 있도록 한다."
      ],
      "metadata": {
        "id": "vXwmFUTY-Y-f"
      }
    },
    {
      "cell_type": "code",
      "source": [
        "contacts = { }\n",
        "\n",
        "while True:\n",
        "      name = input(\"(입력모드)이름을 입력하시오: \")\n",
        "      if not name:\n",
        "             break;\n",
        "      tel = input(\"전화번호를 입력하시오: \")\n",
        "      contacts[name] = tel\n",
        "\n",
        "while True:\n",
        "       name = input(\"(검색모드)이름을 입력하시오: \")\n",
        "       if not name:\n",
        "              break;\n",
        "       if name in contacts :\n",
        "              print(name, \"의 전화번호는\", contacts[name], \"입니다.\")\n"
      ],
      "metadata": {
        "colab": {
          "base_uri": "https://localhost:8080/"
        },
        "id": "IYIsH8wD-Ywe",
        "outputId": "cb6ff542-3fb8-4a34-ff4b-f298b9d0d1fc"
      },
      "execution_count": null,
      "outputs": [
        {
          "output_type": "stream",
          "name": "stdout",
          "text": [
            "(입력모드)이름을 입력하시오: 홍길동\n",
            "전화번호를 입력하시오: 111-2222\n",
            "(입력모드)이름을 입력하시오: 김철수\n",
            "전화번호를 입력하시오: 222-3333\n",
            "(입력모드)이름을 입력하시오: \n",
            "(검색모드)이름을 입력하시오: 홍길동\n",
            "홍길동 의 전화번호는 111-2222 입니다.\n",
            "(검색모드)이름을 입력하시오: 김철수\n",
            "김철수 의 전화번호는 222-3333 입니다.\n"
          ]
        }
      ]
    },
    {
      "cell_type": "markdown",
      "source": [
        "4. 색상을 리스트에 저장한다. 리스트에 저장된 색상을 하나씩 꺼내어 거북이의 색상으로 설정하면서 속이 채워진 사각형을 그리는 프로그램을 작성해보자."
      ],
      "metadata": {
        "id": "hfX23jkQ_lzT"
      }
    },
    {
      "cell_type": "code",
      "source": [
        "import turtle\n",
        "import random\n",
        "t=turtle.Turtle()\n",
        "t.shape(\"turtle\")\n",
        "\n",
        "def draw_square(x, y, c):\n",
        "    t.up()\n",
        "    t.goto(x,y)\n",
        "    t.down()\n",
        "    t.color(\"black\",c)\n",
        "    t.begin_fill()\n",
        "    t.forward(100)\n",
        "    t.left(90)\n",
        "    t.forward(100)\n",
        "    t.left(90)\n",
        "    t.forward(100)\n",
        "    t.left(90)\n",
        "    t.forward(100)\n",
        "    t.left(90)\n",
        "    t.end_fill()\n",
        "\n",
        "for c in [\"yellow\", \"red\", \"purple\", \"blue\"]:\n",
        "    x = random.randint(-100,100)\n",
        "    y = random.randint(-100,100)\n",
        "    draw_square(x,y,c)"
      ],
      "metadata": {
        "id": "-fq0Vl2f_0qZ"
      },
      "execution_count": null,
      "outputs": []
    },
    {
      "cell_type": "markdown",
      "source": [
        "5. 색상을 리스트에 저장한다. 리스트에 저장된 색상을 하나씩 꺼내어 거북이의 색상으로 설정하면서 속이 채워진 다각형을 그리는 프로그램을 작성해보자."
      ],
      "metadata": {
        "id": "fEBqdMacBF4Z"
      }
    },
    {
      "cell_type": "code",
      "source": [
        "import turtle\n",
        "import random\n",
        "\n",
        "t=turtle.Turtle()\n",
        "s=turtle.Screen()\n",
        "\n",
        "def draw_shape(t, c, length, sides, x, y):\n",
        "    t.up()\n",
        "    t.goto(x,y)\n",
        "    t.down()\n",
        "    t.fill_color(c)\n",
        "    angle = 360 / sides\n",
        "    t.begin_fill()\n",
        "    for dist in range(sides):\n",
        "        t.forward(length)\n",
        "        t.left(angle)\n",
        "    t.end_fill()\n",
        "\n",
        "for i in range(10):\n",
        "    color = random.choice(['white', 'yellow', 'blue', 'skyblue', 'orange', 'green']) \n",
        "    side_length = random.randit(10,100)\n",
        "    sides = random.randint(3,10)\n",
        "    x = random.randint(-200,200)\n",
        "    y = random.randint(-200,200)\n",
        "    draw_shape(t, color, side_length, sides, x, y)"
      ],
      "metadata": {
        "id": "9qMQL23VBO3L"
      },
      "execution_count": null,
      "outputs": []
    },
    {
      "cell_type": "markdown",
      "source": [
        "6. 색상을 리스트에 저장한다. 리스트에 저장된 색상을 하나씩 꺼내어 거북이의 색상으로 설정하면서 속이 채워진 별을 랜덤한 위치에 그리는 프로그램을 작성해보자."
      ],
      "metadata": {
        "id": "znVHmE8QDt84"
      }
    },
    {
      "cell_type": "code",
      "source": [
        "import turtle\n",
        "import random\n",
        "\n",
        "t=turtle.Turtle()\n",
        "s=turtle.Screen()\n",
        "s.bgcolor(\"black\")\n",
        "\n",
        "def draw_star(aturtle, colour, side_length, x, y):\n",
        "    aturtle.color(colour)\n",
        "    aturtle.begin_fill()\n",
        "    aturtle.penup()\n",
        "    aturtle.goto(x,y)\n",
        "    aturtle.pendown()\n",
        "    for i in range(5):\n",
        "        aturtle.forward(side_length)\n",
        "        aturtle.right(144)\n",
        "        aturtle.forward(side_length)\n",
        "    aturtle.end_fill()\n",
        "\n",
        "for i in range(20):\n",
        "    color = random.choice(['white', 'yellow', 'blue', 'skyblue', 'orange', 'green'])\n",
        "    side_length = random.randint(10,100)\n",
        "    x = random.randint(-200,200)\n",
        "    y = random.randint(-200,200)\n",
        "    draw_star(t, color, side_length, x, y)"
      ],
      "metadata": {
        "id": "W5r4a_NmD5k0"
      },
      "execution_count": null,
      "outputs": []
    },
    {
      "cell_type": "markdown",
      "source": [
        "7. 인터넷 도메인의 약자와 해당되는 국가를 딕셔너리에 저장해보자. 예를 들어서 \"kr\"은 대한민국으로 저장되어야 한다. 딕셔너리를 순회하면서 모든 키와 값을 출력하는 프로그램을 작성해보자."
      ],
      "metadata": {
        "id": "846kRs_DFBSA"
      }
    },
    {
      "cell_type": "code",
      "source": [
        "domains = { \"kr\": \"대한민국\", \"us\": \"미국\", \"jp\": \"일본\", \"de\": \"독일\", \"sk\": \"슬로바키아\", \"hu\": \"헝가리\", \"no\": \"노르웨이\" }\n",
        "\n",
        "for k, v in domains.items():\n",
        "  print(k, \": \", v)"
      ],
      "metadata": {
        "id": "UBNkQPpsFMmi"
      },
      "execution_count": null,
      "outputs": []
    },
    {
      "cell_type": "markdown",
      "source": [
        "8. 딕셔너리에 문제와 정답을 저장하고 하나씩 사용자에게 제시하는 프로그램을 작성해보자. 사용자는 문자열로 답해야 한다. 번호로 답할 수는 없다.sl"
      ],
      "metadata": {
        "id": "6N2BepO-Ft-N"
      }
    },
    {
      "cell_type": "code",
      "source": [
        "problems = {'파이썬': '최근에 가장 떠오르는 프로그래밍 언어',\n",
        "                 '변수': '데이터를 저장하는 메모리 공간',\n",
        "                 '함수': '작업을 수행하는 문장들의 집합에 이름을 붙인것',\n",
        "                 '리스트': '서로 관련이 없는 항목들의 모임',\n",
        "                  }\n",
        "for word priblem.keys():"
      ],
      "metadata": {
        "id": "iSzFUHsGF3C7"
      },
      "execution_count": null,
      "outputs": []
    }
  ]
}